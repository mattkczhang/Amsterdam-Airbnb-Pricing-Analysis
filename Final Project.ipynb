{
 "cells": [
  {
   "cell_type": "code",
   "execution_count": 1,
   "metadata": {},
   "outputs": [],
   "source": [
    "import pandas as pd\n",
    "pd.set_option('display.max_columns',10000)\n",
    "import numpy as np\n",
    "from datetime import date\n",
    "from datetime import datetime\n",
    "from sklearn.linear_model import LinearRegression\n",
    "import matplotlib.pyplot as plt\n",
    "from sklearn.cluster import KMeans\n",
    "from sklearn.preprocessing import StandardScaler"
   ]
  },
  {
   "cell_type": "code",
   "execution_count": 2,
   "metadata": {},
   "outputs": [
    {
     "data": {
      "text/html": [
       "<div>\n",
       "<style scoped>\n",
       "    .dataframe tbody tr th:only-of-type {\n",
       "        vertical-align: middle;\n",
       "    }\n",
       "\n",
       "    .dataframe tbody tr th {\n",
       "        vertical-align: top;\n",
       "    }\n",
       "\n",
       "    .dataframe thead th {\n",
       "        text-align: right;\n",
       "    }\n",
       "</style>\n",
       "<table border=\"1\" class=\"dataframe\">\n",
       "  <thead>\n",
       "    <tr style=\"text-align: right;\">\n",
       "      <th></th>\n",
       "      <th>id</th>\n",
       "      <th>listing_url</th>\n",
       "      <th>scrape_id</th>\n",
       "      <th>last_scraped</th>\n",
       "      <th>name</th>\n",
       "      <th>description</th>\n",
       "      <th>neighborhood_overview</th>\n",
       "      <th>picture_url</th>\n",
       "      <th>host_id</th>\n",
       "      <th>host_url</th>\n",
       "      <th>host_name</th>\n",
       "      <th>host_since</th>\n",
       "      <th>host_location</th>\n",
       "      <th>host_about</th>\n",
       "      <th>host_response_time</th>\n",
       "      <th>host_response_rate</th>\n",
       "      <th>host_acceptance_rate</th>\n",
       "      <th>host_is_superhost</th>\n",
       "      <th>host_thumbnail_url</th>\n",
       "      <th>host_picture_url</th>\n",
       "      <th>host_neighbourhood</th>\n",
       "      <th>host_listings_count</th>\n",
       "      <th>host_total_listings_count</th>\n",
       "      <th>host_verifications</th>\n",
       "      <th>host_has_profile_pic</th>\n",
       "      <th>host_identity_verified</th>\n",
       "      <th>neighbourhood</th>\n",
       "      <th>neighbourhood_cleansed</th>\n",
       "      <th>neighbourhood_group_cleansed</th>\n",
       "      <th>latitude</th>\n",
       "      <th>longitude</th>\n",
       "      <th>property_type</th>\n",
       "      <th>room_type</th>\n",
       "      <th>accommodates</th>\n",
       "      <th>bathrooms</th>\n",
       "      <th>bathrooms_text</th>\n",
       "      <th>bedrooms</th>\n",
       "      <th>beds</th>\n",
       "      <th>amenities</th>\n",
       "      <th>price</th>\n",
       "      <th>minimum_nights</th>\n",
       "      <th>maximum_nights</th>\n",
       "      <th>minimum_minimum_nights</th>\n",
       "      <th>maximum_minimum_nights</th>\n",
       "      <th>minimum_maximum_nights</th>\n",
       "      <th>maximum_maximum_nights</th>\n",
       "      <th>minimum_nights_avg_ntm</th>\n",
       "      <th>maximum_nights_avg_ntm</th>\n",
       "      <th>calendar_updated</th>\n",
       "      <th>has_availability</th>\n",
       "      <th>availability_30</th>\n",
       "      <th>availability_60</th>\n",
       "      <th>availability_90</th>\n",
       "      <th>availability_365</th>\n",
       "      <th>calendar_last_scraped</th>\n",
       "      <th>number_of_reviews</th>\n",
       "      <th>number_of_reviews_ltm</th>\n",
       "      <th>number_of_reviews_l30d</th>\n",
       "      <th>first_review</th>\n",
       "      <th>last_review</th>\n",
       "      <th>review_scores_rating</th>\n",
       "      <th>review_scores_accuracy</th>\n",
       "      <th>review_scores_cleanliness</th>\n",
       "      <th>review_scores_checkin</th>\n",
       "      <th>review_scores_communication</th>\n",
       "      <th>review_scores_location</th>\n",
       "      <th>review_scores_value</th>\n",
       "      <th>license</th>\n",
       "      <th>instant_bookable</th>\n",
       "      <th>calculated_host_listings_count</th>\n",
       "      <th>calculated_host_listings_count_entire_homes</th>\n",
       "      <th>calculated_host_listings_count_private_rooms</th>\n",
       "      <th>calculated_host_listings_count_shared_rooms</th>\n",
       "      <th>reviews_per_month</th>\n",
       "    </tr>\n",
       "  </thead>\n",
       "  <tbody>\n",
       "    <tr>\n",
       "      <th>0</th>\n",
       "      <td>2818</td>\n",
       "      <td>https://www.airbnb.com/rooms/2818</td>\n",
       "      <td>20220106171342</td>\n",
       "      <td>2022-01-07</td>\n",
       "      <td>Quiet Garden View Room &amp; Super Fast WiFi</td>\n",
       "      <td>Quiet Garden View Room &amp; Super Fast WiFi&lt;br /&gt;...</td>\n",
       "      <td>Indische Buurt (\"Indies Neighborhood\") is a ne...</td>\n",
       "      <td>https://a0.muscache.com/pictures/10272854/8dcc...</td>\n",
       "      <td>3159</td>\n",
       "      <td>https://www.airbnb.com/users/show/3159</td>\n",
       "      <td>Daniel</td>\n",
       "      <td>2008-09-24</td>\n",
       "      <td>Amsterdam, Noord-Holland, The Netherlands</td>\n",
       "      <td>Upon arriving in Amsterdam, one can imagine as...</td>\n",
       "      <td>within an hour</td>\n",
       "      <td>100%</td>\n",
       "      <td>100%</td>\n",
       "      <td>t</td>\n",
       "      <td>https://a0.muscache.com/im/users/3159/profile_...</td>\n",
       "      <td>https://a0.muscache.com/im/users/3159/profile_...</td>\n",
       "      <td>Indische Buurt</td>\n",
       "      <td>1</td>\n",
       "      <td>1</td>\n",
       "      <td>['email', 'phone', 'reviews', 'jumio', 'offlin...</td>\n",
       "      <td>t</td>\n",
       "      <td>t</td>\n",
       "      <td>Amsterdam, North Holland, Netherlands</td>\n",
       "      <td>Oostelijk Havengebied - Indische Buurt</td>\n",
       "      <td>NaN</td>\n",
       "      <td>52.36435</td>\n",
       "      <td>4.94358</td>\n",
       "      <td>Private room in rental unit</td>\n",
       "      <td>Private room</td>\n",
       "      <td>2</td>\n",
       "      <td>NaN</td>\n",
       "      <td>1.5 shared baths</td>\n",
       "      <td>1.0</td>\n",
       "      <td>2.0</td>\n",
       "      <td>[\"Security cameras on property\", \"Refrigerator...</td>\n",
       "      <td>$59.00</td>\n",
       "      <td>3</td>\n",
       "      <td>28</td>\n",
       "      <td>3.0</td>\n",
       "      <td>3.0</td>\n",
       "      <td>1125.0</td>\n",
       "      <td>1125.0</td>\n",
       "      <td>3.0</td>\n",
       "      <td>1125.0</td>\n",
       "      <td>NaN</td>\n",
       "      <td>t</td>\n",
       "      <td>28</td>\n",
       "      <td>51</td>\n",
       "      <td>51</td>\n",
       "      <td>51</td>\n",
       "      <td>2022-01-07</td>\n",
       "      <td>285</td>\n",
       "      <td>7</td>\n",
       "      <td>0</td>\n",
       "      <td>2009-03-30</td>\n",
       "      <td>2021-11-21</td>\n",
       "      <td>4.89</td>\n",
       "      <td>4.93</td>\n",
       "      <td>5.00</td>\n",
       "      <td>4.97</td>\n",
       "      <td>4.98</td>\n",
       "      <td>4.68</td>\n",
       "      <td>4.82</td>\n",
       "      <td>0363 5F3A 5684 6750 D14D</td>\n",
       "      <td>t</td>\n",
       "      <td>1</td>\n",
       "      <td>0</td>\n",
       "      <td>1</td>\n",
       "      <td>0</td>\n",
       "      <td>1.83</td>\n",
       "    </tr>\n",
       "    <tr>\n",
       "      <th>1</th>\n",
       "      <td>20168</td>\n",
       "      <td>https://www.airbnb.com/rooms/20168</td>\n",
       "      <td>20220106171342</td>\n",
       "      <td>2022-01-06</td>\n",
       "      <td>Studio with private bathroom in the centre 1</td>\n",
       "      <td>17th century Dutch townhouse in the heart of t...</td>\n",
       "      <td>Located just in between famous central canals....</td>\n",
       "      <td>https://a0.muscache.com/pictures/69979628/fd6a...</td>\n",
       "      <td>59484</td>\n",
       "      <td>https://www.airbnb.com/users/show/59484</td>\n",
       "      <td>Alexander</td>\n",
       "      <td>2009-12-02</td>\n",
       "      <td>Amsterdam, Noord-Holland, The Netherlands</td>\n",
       "      <td>+ (Phone number hidden by Airbnb)</td>\n",
       "      <td>within an hour</td>\n",
       "      <td>100%</td>\n",
       "      <td>96%</td>\n",
       "      <td>f</td>\n",
       "      <td>https://a0.muscache.com/im/pictures/user/65092...</td>\n",
       "      <td>https://a0.muscache.com/im/pictures/user/65092...</td>\n",
       "      <td>Grachtengordel</td>\n",
       "      <td>2</td>\n",
       "      <td>2</td>\n",
       "      <td>['email', 'phone', 'reviews', 'jumio', 'offlin...</td>\n",
       "      <td>t</td>\n",
       "      <td>t</td>\n",
       "      <td>Amsterdam, North Holland, Netherlands</td>\n",
       "      <td>Centrum-Oost</td>\n",
       "      <td>NaN</td>\n",
       "      <td>52.36407</td>\n",
       "      <td>4.89393</td>\n",
       "      <td>Private room in townhouse</td>\n",
       "      <td>Private room</td>\n",
       "      <td>2</td>\n",
       "      <td>NaN</td>\n",
       "      <td>1 private bath</td>\n",
       "      <td>1.0</td>\n",
       "      <td>1.0</td>\n",
       "      <td>[\"Fire extinguisher\", \"Carbon monoxide alarm\",...</td>\n",
       "      <td>$106.00</td>\n",
       "      <td>1</td>\n",
       "      <td>365</td>\n",
       "      <td>1.0</td>\n",
       "      <td>1.0</td>\n",
       "      <td>1125.0</td>\n",
       "      <td>1125.0</td>\n",
       "      <td>1.0</td>\n",
       "      <td>1125.0</td>\n",
       "      <td>NaN</td>\n",
       "      <td>t</td>\n",
       "      <td>0</td>\n",
       "      <td>0</td>\n",
       "      <td>0</td>\n",
       "      <td>0</td>\n",
       "      <td>2022-01-06</td>\n",
       "      <td>339</td>\n",
       "      <td>0</td>\n",
       "      <td>0</td>\n",
       "      <td>2010-03-02</td>\n",
       "      <td>2020-04-09</td>\n",
       "      <td>4.44</td>\n",
       "      <td>4.69</td>\n",
       "      <td>4.79</td>\n",
       "      <td>4.63</td>\n",
       "      <td>4.62</td>\n",
       "      <td>4.87</td>\n",
       "      <td>4.49</td>\n",
       "      <td>0363 CBB3 2C10 0C2A 1E29</td>\n",
       "      <td>t</td>\n",
       "      <td>2</td>\n",
       "      <td>0</td>\n",
       "      <td>2</td>\n",
       "      <td>0</td>\n",
       "      <td>2.35</td>\n",
       "    </tr>\n",
       "    <tr>\n",
       "      <th>2</th>\n",
       "      <td>27886</td>\n",
       "      <td>https://www.airbnb.com/rooms/27886</td>\n",
       "      <td>20220106171342</td>\n",
       "      <td>2022-01-06</td>\n",
       "      <td>Romantic, stylish B&amp;B houseboat in canal district</td>\n",
       "      <td>Stylish and romantic houseboat on fantastic hi...</td>\n",
       "      <td>Central, quiet, safe, clean and beautiful.</td>\n",
       "      <td>https://a0.muscache.com/pictures/02c2da9d-660e...</td>\n",
       "      <td>97647</td>\n",
       "      <td>https://www.airbnb.com/users/show/97647</td>\n",
       "      <td>Flip</td>\n",
       "      <td>2010-03-23</td>\n",
       "      <td>Amsterdam, Noord-Holland, The Netherlands</td>\n",
       "      <td>Marjan works in \"eye\" the dutch filmmuseum, an...</td>\n",
       "      <td>within an hour</td>\n",
       "      <td>100%</td>\n",
       "      <td>100%</td>\n",
       "      <td>t</td>\n",
       "      <td>https://a0.muscache.com/im/users/97647/profile...</td>\n",
       "      <td>https://a0.muscache.com/im/users/97647/profile...</td>\n",
       "      <td>Westelijke Eilanden</td>\n",
       "      <td>1</td>\n",
       "      <td>1</td>\n",
       "      <td>['email', 'phone', 'reviews', 'jumio', 'offlin...</td>\n",
       "      <td>t</td>\n",
       "      <td>t</td>\n",
       "      <td>Amsterdam, North Holland, Netherlands</td>\n",
       "      <td>Centrum-West</td>\n",
       "      <td>NaN</td>\n",
       "      <td>52.38761</td>\n",
       "      <td>4.89188</td>\n",
       "      <td>Private room in houseboat</td>\n",
       "      <td>Private room</td>\n",
       "      <td>2</td>\n",
       "      <td>NaN</td>\n",
       "      <td>1.5 baths</td>\n",
       "      <td>1.0</td>\n",
       "      <td>1.0</td>\n",
       "      <td>[\"Nespresso machine\", \"Dishes and silverware\",...</td>\n",
       "      <td>$135.00</td>\n",
       "      <td>2</td>\n",
       "      <td>730</td>\n",
       "      <td>2.0</td>\n",
       "      <td>2.0</td>\n",
       "      <td>1125.0</td>\n",
       "      <td>1125.0</td>\n",
       "      <td>2.0</td>\n",
       "      <td>1125.0</td>\n",
       "      <td>NaN</td>\n",
       "      <td>t</td>\n",
       "      <td>0</td>\n",
       "      <td>0</td>\n",
       "      <td>0</td>\n",
       "      <td>0</td>\n",
       "      <td>2022-01-06</td>\n",
       "      <td>227</td>\n",
       "      <td>8</td>\n",
       "      <td>0</td>\n",
       "      <td>2012-01-09</td>\n",
       "      <td>2021-12-06</td>\n",
       "      <td>4.95</td>\n",
       "      <td>4.93</td>\n",
       "      <td>4.96</td>\n",
       "      <td>4.95</td>\n",
       "      <td>4.93</td>\n",
       "      <td>4.90</td>\n",
       "      <td>4.80</td>\n",
       "      <td>0363 974D 4986 7411 88D8</td>\n",
       "      <td>t</td>\n",
       "      <td>1</td>\n",
       "      <td>0</td>\n",
       "      <td>1</td>\n",
       "      <td>0</td>\n",
       "      <td>1.87</td>\n",
       "    </tr>\n",
       "    <tr>\n",
       "      <th>3</th>\n",
       "      <td>28871</td>\n",
       "      <td>https://www.airbnb.com/rooms/28871</td>\n",
       "      <td>20220106171342</td>\n",
       "      <td>2022-01-06</td>\n",
       "      <td>Comfortable double room</td>\n",
       "      <td>&lt;b&gt;The space&lt;/b&gt;&lt;br /&gt;In a monumental house ri...</td>\n",
       "      <td>Flower market , Leidseplein , Rembrantsplein</td>\n",
       "      <td>https://a0.muscache.com/pictures/160889/362340...</td>\n",
       "      <td>124245</td>\n",
       "      <td>https://www.airbnb.com/users/show/124245</td>\n",
       "      <td>Edwin</td>\n",
       "      <td>2010-05-13</td>\n",
       "      <td>Amsterdam, Noord-Holland, The Netherlands</td>\n",
       "      <td>Hi</td>\n",
       "      <td>within an hour</td>\n",
       "      <td>100%</td>\n",
       "      <td>100%</td>\n",
       "      <td>t</td>\n",
       "      <td>https://a0.muscache.com/im/pictures/user/9986b...</td>\n",
       "      <td>https://a0.muscache.com/im/pictures/user/9986b...</td>\n",
       "      <td>Amsterdam Centrum</td>\n",
       "      <td>2</td>\n",
       "      <td>2</td>\n",
       "      <td>['email', 'phone', 'reviews', 'jumio', 'offlin...</td>\n",
       "      <td>t</td>\n",
       "      <td>t</td>\n",
       "      <td>Amsterdam, North Holland, Netherlands</td>\n",
       "      <td>Centrum-West</td>\n",
       "      <td>NaN</td>\n",
       "      <td>52.36775</td>\n",
       "      <td>4.89092</td>\n",
       "      <td>Private room in rental unit</td>\n",
       "      <td>Private room</td>\n",
       "      <td>2</td>\n",
       "      <td>NaN</td>\n",
       "      <td>1 shared bath</td>\n",
       "      <td>1.0</td>\n",
       "      <td>1.0</td>\n",
       "      <td>[\"Fire extinguisher\", \"Lock on bedroom door\", ...</td>\n",
       "      <td>$75.00</td>\n",
       "      <td>2</td>\n",
       "      <td>1825</td>\n",
       "      <td>2.0</td>\n",
       "      <td>2.0</td>\n",
       "      <td>1825.0</td>\n",
       "      <td>1825.0</td>\n",
       "      <td>2.0</td>\n",
       "      <td>1825.0</td>\n",
       "      <td>NaN</td>\n",
       "      <td>t</td>\n",
       "      <td>24</td>\n",
       "      <td>42</td>\n",
       "      <td>58</td>\n",
       "      <td>206</td>\n",
       "      <td>2022-01-06</td>\n",
       "      <td>372</td>\n",
       "      <td>36</td>\n",
       "      <td>1</td>\n",
       "      <td>2010-08-22</td>\n",
       "      <td>2021-12-12</td>\n",
       "      <td>4.88</td>\n",
       "      <td>4.94</td>\n",
       "      <td>4.89</td>\n",
       "      <td>4.96</td>\n",
       "      <td>4.94</td>\n",
       "      <td>4.97</td>\n",
       "      <td>4.82</td>\n",
       "      <td>0363 607B EA74 0BD8 2F6F</td>\n",
       "      <td>f</td>\n",
       "      <td>2</td>\n",
       "      <td>0</td>\n",
       "      <td>2</td>\n",
       "      <td>0</td>\n",
       "      <td>2.69</td>\n",
       "    </tr>\n",
       "    <tr>\n",
       "      <th>4</th>\n",
       "      <td>29051</td>\n",
       "      <td>https://www.airbnb.com/rooms/29051</td>\n",
       "      <td>20220106171342</td>\n",
       "      <td>2022-01-06</td>\n",
       "      <td>Comfortable single room</td>\n",
       "      <td>This room can also accomodate 2 people.  For a...</td>\n",
       "      <td>the street is quite lively especially on weeke...</td>\n",
       "      <td>https://a0.muscache.com/pictures/162009/bd6be2...</td>\n",
       "      <td>124245</td>\n",
       "      <td>https://www.airbnb.com/users/show/124245</td>\n",
       "      <td>Edwin</td>\n",
       "      <td>2010-05-13</td>\n",
       "      <td>Amsterdam, Noord-Holland, The Netherlands</td>\n",
       "      <td>Hi</td>\n",
       "      <td>within an hour</td>\n",
       "      <td>100%</td>\n",
       "      <td>100%</td>\n",
       "      <td>t</td>\n",
       "      <td>https://a0.muscache.com/im/pictures/user/9986b...</td>\n",
       "      <td>https://a0.muscache.com/im/pictures/user/9986b...</td>\n",
       "      <td>Amsterdam Centrum</td>\n",
       "      <td>2</td>\n",
       "      <td>2</td>\n",
       "      <td>['email', 'phone', 'reviews', 'jumio', 'offlin...</td>\n",
       "      <td>t</td>\n",
       "      <td>t</td>\n",
       "      <td>Amsterdam, North Holland, Netherlands</td>\n",
       "      <td>Centrum-Oost</td>\n",
       "      <td>NaN</td>\n",
       "      <td>52.36584</td>\n",
       "      <td>4.89111</td>\n",
       "      <td>Private room in rental unit</td>\n",
       "      <td>Private room</td>\n",
       "      <td>1</td>\n",
       "      <td>NaN</td>\n",
       "      <td>1 shared bath</td>\n",
       "      <td>1.0</td>\n",
       "      <td>1.0</td>\n",
       "      <td>[\"Fire extinguisher\", \"Lock on bedroom door\", ...</td>\n",
       "      <td>$55.00</td>\n",
       "      <td>2</td>\n",
       "      <td>730</td>\n",
       "      <td>2.0</td>\n",
       "      <td>2.0</td>\n",
       "      <td>730.0</td>\n",
       "      <td>730.0</td>\n",
       "      <td>2.0</td>\n",
       "      <td>730.0</td>\n",
       "      <td>NaN</td>\n",
       "      <td>t</td>\n",
       "      <td>15</td>\n",
       "      <td>30</td>\n",
       "      <td>42</td>\n",
       "      <td>193</td>\n",
       "      <td>2022-01-06</td>\n",
       "      <td>525</td>\n",
       "      <td>46</td>\n",
       "      <td>4</td>\n",
       "      <td>2011-03-16</td>\n",
       "      <td>2022-01-02</td>\n",
       "      <td>4.78</td>\n",
       "      <td>4.87</td>\n",
       "      <td>4.83</td>\n",
       "      <td>4.92</td>\n",
       "      <td>4.91</td>\n",
       "      <td>4.87</td>\n",
       "      <td>4.75</td>\n",
       "      <td>0363 607B EA74 0BD8 2F6F</td>\n",
       "      <td>f</td>\n",
       "      <td>2</td>\n",
       "      <td>0</td>\n",
       "      <td>2</td>\n",
       "      <td>0</td>\n",
       "      <td>3.99</td>\n",
       "    </tr>\n",
       "  </tbody>\n",
       "</table>\n",
       "</div>"
      ],
      "text/plain": [
       "      id                         listing_url       scrape_id last_scraped  \\\n",
       "0   2818   https://www.airbnb.com/rooms/2818  20220106171342   2022-01-07   \n",
       "1  20168  https://www.airbnb.com/rooms/20168  20220106171342   2022-01-06   \n",
       "2  27886  https://www.airbnb.com/rooms/27886  20220106171342   2022-01-06   \n",
       "3  28871  https://www.airbnb.com/rooms/28871  20220106171342   2022-01-06   \n",
       "4  29051  https://www.airbnb.com/rooms/29051  20220106171342   2022-01-06   \n",
       "\n",
       "                                                name  \\\n",
       "0           Quiet Garden View Room & Super Fast WiFi   \n",
       "1       Studio with private bathroom in the centre 1   \n",
       "2  Romantic, stylish B&B houseboat in canal district   \n",
       "3                            Comfortable double room   \n",
       "4                            Comfortable single room   \n",
       "\n",
       "                                         description  \\\n",
       "0  Quiet Garden View Room & Super Fast WiFi<br />...   \n",
       "1  17th century Dutch townhouse in the heart of t...   \n",
       "2  Stylish and romantic houseboat on fantastic hi...   \n",
       "3  <b>The space</b><br />In a monumental house ri...   \n",
       "4  This room can also accomodate 2 people.  For a...   \n",
       "\n",
       "                               neighborhood_overview  \\\n",
       "0  Indische Buurt (\"Indies Neighborhood\") is a ne...   \n",
       "1  Located just in between famous central canals....   \n",
       "2         Central, quiet, safe, clean and beautiful.   \n",
       "3       Flower market , Leidseplein , Rembrantsplein   \n",
       "4  the street is quite lively especially on weeke...   \n",
       "\n",
       "                                         picture_url  host_id  \\\n",
       "0  https://a0.muscache.com/pictures/10272854/8dcc...     3159   \n",
       "1  https://a0.muscache.com/pictures/69979628/fd6a...    59484   \n",
       "2  https://a0.muscache.com/pictures/02c2da9d-660e...    97647   \n",
       "3  https://a0.muscache.com/pictures/160889/362340...   124245   \n",
       "4  https://a0.muscache.com/pictures/162009/bd6be2...   124245   \n",
       "\n",
       "                                   host_url  host_name  host_since  \\\n",
       "0    https://www.airbnb.com/users/show/3159     Daniel  2008-09-24   \n",
       "1   https://www.airbnb.com/users/show/59484  Alexander  2009-12-02   \n",
       "2   https://www.airbnb.com/users/show/97647       Flip  2010-03-23   \n",
       "3  https://www.airbnb.com/users/show/124245      Edwin  2010-05-13   \n",
       "4  https://www.airbnb.com/users/show/124245      Edwin  2010-05-13   \n",
       "\n",
       "                               host_location  \\\n",
       "0  Amsterdam, Noord-Holland, The Netherlands   \n",
       "1  Amsterdam, Noord-Holland, The Netherlands   \n",
       "2  Amsterdam, Noord-Holland, The Netherlands   \n",
       "3  Amsterdam, Noord-Holland, The Netherlands   \n",
       "4  Amsterdam, Noord-Holland, The Netherlands   \n",
       "\n",
       "                                          host_about host_response_time  \\\n",
       "0  Upon arriving in Amsterdam, one can imagine as...     within an hour   \n",
       "1                  + (Phone number hidden by Airbnb)     within an hour   \n",
       "2  Marjan works in \"eye\" the dutch filmmuseum, an...     within an hour   \n",
       "3                                                 Hi     within an hour   \n",
       "4                                                 Hi     within an hour   \n",
       "\n",
       "  host_response_rate host_acceptance_rate host_is_superhost  \\\n",
       "0               100%                 100%                 t   \n",
       "1               100%                  96%                 f   \n",
       "2               100%                 100%                 t   \n",
       "3               100%                 100%                 t   \n",
       "4               100%                 100%                 t   \n",
       "\n",
       "                                  host_thumbnail_url  \\\n",
       "0  https://a0.muscache.com/im/users/3159/profile_...   \n",
       "1  https://a0.muscache.com/im/pictures/user/65092...   \n",
       "2  https://a0.muscache.com/im/users/97647/profile...   \n",
       "3  https://a0.muscache.com/im/pictures/user/9986b...   \n",
       "4  https://a0.muscache.com/im/pictures/user/9986b...   \n",
       "\n",
       "                                    host_picture_url   host_neighbourhood  \\\n",
       "0  https://a0.muscache.com/im/users/3159/profile_...       Indische Buurt   \n",
       "1  https://a0.muscache.com/im/pictures/user/65092...       Grachtengordel   \n",
       "2  https://a0.muscache.com/im/users/97647/profile...  Westelijke Eilanden   \n",
       "3  https://a0.muscache.com/im/pictures/user/9986b...    Amsterdam Centrum   \n",
       "4  https://a0.muscache.com/im/pictures/user/9986b...    Amsterdam Centrum   \n",
       "\n",
       "   host_listings_count  host_total_listings_count  \\\n",
       "0                    1                          1   \n",
       "1                    2                          2   \n",
       "2                    1                          1   \n",
       "3                    2                          2   \n",
       "4                    2                          2   \n",
       "\n",
       "                                  host_verifications host_has_profile_pic  \\\n",
       "0  ['email', 'phone', 'reviews', 'jumio', 'offlin...                    t   \n",
       "1  ['email', 'phone', 'reviews', 'jumio', 'offlin...                    t   \n",
       "2  ['email', 'phone', 'reviews', 'jumio', 'offlin...                    t   \n",
       "3  ['email', 'phone', 'reviews', 'jumio', 'offlin...                    t   \n",
       "4  ['email', 'phone', 'reviews', 'jumio', 'offlin...                    t   \n",
       "\n",
       "  host_identity_verified                          neighbourhood  \\\n",
       "0                      t  Amsterdam, North Holland, Netherlands   \n",
       "1                      t  Amsterdam, North Holland, Netherlands   \n",
       "2                      t  Amsterdam, North Holland, Netherlands   \n",
       "3                      t  Amsterdam, North Holland, Netherlands   \n",
       "4                      t  Amsterdam, North Holland, Netherlands   \n",
       "\n",
       "                   neighbourhood_cleansed  neighbourhood_group_cleansed  \\\n",
       "0  Oostelijk Havengebied - Indische Buurt                           NaN   \n",
       "1                            Centrum-Oost                           NaN   \n",
       "2                            Centrum-West                           NaN   \n",
       "3                            Centrum-West                           NaN   \n",
       "4                            Centrum-Oost                           NaN   \n",
       "\n",
       "   latitude  longitude                property_type     room_type  \\\n",
       "0  52.36435    4.94358  Private room in rental unit  Private room   \n",
       "1  52.36407    4.89393    Private room in townhouse  Private room   \n",
       "2  52.38761    4.89188    Private room in houseboat  Private room   \n",
       "3  52.36775    4.89092  Private room in rental unit  Private room   \n",
       "4  52.36584    4.89111  Private room in rental unit  Private room   \n",
       "\n",
       "   accommodates  bathrooms    bathrooms_text  bedrooms  beds  \\\n",
       "0             2        NaN  1.5 shared baths       1.0   2.0   \n",
       "1             2        NaN    1 private bath       1.0   1.0   \n",
       "2             2        NaN         1.5 baths       1.0   1.0   \n",
       "3             2        NaN     1 shared bath       1.0   1.0   \n",
       "4             1        NaN     1 shared bath       1.0   1.0   \n",
       "\n",
       "                                           amenities    price  minimum_nights  \\\n",
       "0  [\"Security cameras on property\", \"Refrigerator...   $59.00               3   \n",
       "1  [\"Fire extinguisher\", \"Carbon monoxide alarm\",...  $106.00               1   \n",
       "2  [\"Nespresso machine\", \"Dishes and silverware\",...  $135.00               2   \n",
       "3  [\"Fire extinguisher\", \"Lock on bedroom door\", ...   $75.00               2   \n",
       "4  [\"Fire extinguisher\", \"Lock on bedroom door\", ...   $55.00               2   \n",
       "\n",
       "   maximum_nights  minimum_minimum_nights  maximum_minimum_nights  \\\n",
       "0              28                     3.0                     3.0   \n",
       "1             365                     1.0                     1.0   \n",
       "2             730                     2.0                     2.0   \n",
       "3            1825                     2.0                     2.0   \n",
       "4             730                     2.0                     2.0   \n",
       "\n",
       "   minimum_maximum_nights  maximum_maximum_nights  minimum_nights_avg_ntm  \\\n",
       "0                  1125.0                  1125.0                     3.0   \n",
       "1                  1125.0                  1125.0                     1.0   \n",
       "2                  1125.0                  1125.0                     2.0   \n",
       "3                  1825.0                  1825.0                     2.0   \n",
       "4                   730.0                   730.0                     2.0   \n",
       "\n",
       "   maximum_nights_avg_ntm  calendar_updated has_availability  availability_30  \\\n",
       "0                  1125.0               NaN                t               28   \n",
       "1                  1125.0               NaN                t                0   \n",
       "2                  1125.0               NaN                t                0   \n",
       "3                  1825.0               NaN                t               24   \n",
       "4                   730.0               NaN                t               15   \n",
       "\n",
       "   availability_60  availability_90  availability_365 calendar_last_scraped  \\\n",
       "0               51               51                51            2022-01-07   \n",
       "1                0                0                 0            2022-01-06   \n",
       "2                0                0                 0            2022-01-06   \n",
       "3               42               58               206            2022-01-06   \n",
       "4               30               42               193            2022-01-06   \n",
       "\n",
       "   number_of_reviews  number_of_reviews_ltm  number_of_reviews_l30d  \\\n",
       "0                285                      7                       0   \n",
       "1                339                      0                       0   \n",
       "2                227                      8                       0   \n",
       "3                372                     36                       1   \n",
       "4                525                     46                       4   \n",
       "\n",
       "  first_review last_review  review_scores_rating  review_scores_accuracy  \\\n",
       "0   2009-03-30  2021-11-21                  4.89                    4.93   \n",
       "1   2010-03-02  2020-04-09                  4.44                    4.69   \n",
       "2   2012-01-09  2021-12-06                  4.95                    4.93   \n",
       "3   2010-08-22  2021-12-12                  4.88                    4.94   \n",
       "4   2011-03-16  2022-01-02                  4.78                    4.87   \n",
       "\n",
       "   review_scores_cleanliness  review_scores_checkin  \\\n",
       "0                       5.00                   4.97   \n",
       "1                       4.79                   4.63   \n",
       "2                       4.96                   4.95   \n",
       "3                       4.89                   4.96   \n",
       "4                       4.83                   4.92   \n",
       "\n",
       "   review_scores_communication  review_scores_location  review_scores_value  \\\n",
       "0                         4.98                    4.68                 4.82   \n",
       "1                         4.62                    4.87                 4.49   \n",
       "2                         4.93                    4.90                 4.80   \n",
       "3                         4.94                    4.97                 4.82   \n",
       "4                         4.91                    4.87                 4.75   \n",
       "\n",
       "                    license instant_bookable  calculated_host_listings_count  \\\n",
       "0  0363 5F3A 5684 6750 D14D                t                               1   \n",
       "1  0363 CBB3 2C10 0C2A 1E29                t                               2   \n",
       "2  0363 974D 4986 7411 88D8                t                               1   \n",
       "3  0363 607B EA74 0BD8 2F6F                f                               2   \n",
       "4  0363 607B EA74 0BD8 2F6F                f                               2   \n",
       "\n",
       "   calculated_host_listings_count_entire_homes  \\\n",
       "0                                            0   \n",
       "1                                            0   \n",
       "2                                            0   \n",
       "3                                            0   \n",
       "4                                            0   \n",
       "\n",
       "   calculated_host_listings_count_private_rooms  \\\n",
       "0                                             1   \n",
       "1                                             2   \n",
       "2                                             1   \n",
       "3                                             2   \n",
       "4                                             2   \n",
       "\n",
       "   calculated_host_listings_count_shared_rooms  reviews_per_month  \n",
       "0                                            0               1.83  \n",
       "1                                            0               2.35  \n",
       "2                                            0               1.87  \n",
       "3                                            0               2.69  \n",
       "4                                            0               3.99  "
      ]
     },
     "execution_count": 2,
     "metadata": {},
     "output_type": "execute_result"
    }
   ],
   "source": [
    "df = pd.read_csv('listings.csv')\n",
    "df.head(5)"
   ]
  },
  {
   "cell_type": "code",
   "execution_count": 3,
   "metadata": {},
   "outputs": [
    {
     "data": {
      "text/plain": [
       "(5597, 74)"
      ]
     },
     "execution_count": 3,
     "metadata": {},
     "output_type": "execute_result"
    }
   ],
   "source": [
    "df.shape"
   ]
  },
  {
   "cell_type": "markdown",
   "metadata": {},
   "source": [
    "# 1. Explore the data"
   ]
  },
  {
   "cell_type": "code",
   "execution_count": 4,
   "metadata": {},
   "outputs": [],
   "source": [
    "df.index.rename('listingID', inplace = True)"
   ]
  },
  {
   "cell_type": "markdown",
   "metadata": {},
   "source": [
    "### a. Explore number of Null values for each attribute\n",
    "why: If too many null values, consider either fill null values or drop attribute in data preparation later."
   ]
  },
  {
   "cell_type": "code",
   "execution_count": 5,
   "metadata": {},
   "outputs": [
    {
     "data": {
      "text/plain": [
       "id                                              0.00%\n",
       "listing_url                                     0.00%\n",
       "scrape_id                                       0.00%\n",
       "last_scraped                                    0.00%\n",
       "name                                            0.00%\n",
       "                                                ...  \n",
       "calculated_host_listings_count                  0.00%\n",
       "calculated_host_listings_count_entire_homes     0.00%\n",
       "calculated_host_listings_count_private_rooms    0.00%\n",
       "calculated_host_listings_count_shared_rooms     0.00%\n",
       "reviews_per_month                               9.42%\n",
       "Length: 74, dtype: object"
      ]
     },
     "execution_count": 5,
     "metadata": {},
     "output_type": "execute_result"
    }
   ],
   "source": [
    "col = []\n",
    "na = []\n",
    "for i in df.columns:\n",
    "    col.append(i)\n",
    "    na.append(\"{:.2%}\".format(df[i].isna().sum()/df.shape[0]))\n",
    "n_null = pd.Series(dict(zip(col,na)))\n",
    "n_null"
   ]
  },
  {
   "cell_type": "markdown",
   "metadata": {},
   "source": [
    "<b>\n",
    "    \n",
    "Observations:\n",
    "    \n",
    "1. Four attributes have 100% null values: \"neighbourhood_group_cleansed\", \"bathrooms\", \"calendar_updated\"\n",
    "2. Nineteen attributes have 1% - 43% data points with null values. Consider either removing or filling them.\n",
    "    \n",
    "<b>"
   ]
  },
  {
   "cell_type": "markdown",
   "metadata": {},
   "source": [
    "# 2. Prepare the Data\n",
    "### a. Start by dropping columns that, under common sense, have no prediction ability on price of listings.\n",
    "- id\n",
    "- listing_url\n",
    "- scrape_id\n",
    "- picture_url\n",
    "- host_id\n",
    "- host_url\n",
    "- host_name\n",
    "- calendar_last_scraped\n",
    "- last_scraped\n",
    "- license\n",
    "- neighbourhood"
   ]
  },
  {
   "cell_type": "code",
   "execution_count": 6,
   "metadata": {},
   "outputs": [],
   "source": [
    "# step 1\n",
    "df.drop(columns = ['id','listing_url','scrape_id','picture_url',\n",
    "                   'host_id','host_url','host_name','host_thumbnail_url','host_picture_url',\n",
    "                   'neighbourhood','calendar_last_scraped', 'last_scraped',\n",
    "                   'license', 'host_neighbourhood','name','description'], inplace = True)"
   ]
  },
  {
   "cell_type": "markdown",
   "metadata": {},
   "source": [
    "### b. Drop columns that include too many null values.\n",
    "- neighbourhood_group_cleansed\n",
    "- bathrooms\n",
    "- calendar_updated"
   ]
  },
  {
   "cell_type": "code",
   "execution_count": 7,
   "metadata": {},
   "outputs": [],
   "source": [
    "df.drop(columns = ['neighbourhood_group_cleansed','bathrooms','calendar_updated'], inplace = True)"
   ]
  },
  {
   "cell_type": "markdown",
   "metadata": {},
   "source": [
    "### c. Examine DataFrame\n",
    "Determine what are the remaining columns with null values and how to deal with them."
   ]
  },
  {
   "cell_type": "code",
   "execution_count": 8,
   "metadata": {},
   "outputs": [],
   "source": [
    "def null_check(df):\n",
    "    col = []\n",
    "    na = []\n",
    "    for i in df.columns:\n",
    "        if df[i].isna().sum() != 0:\n",
    "            col.append(i)\n",
    "            na.append(\"{:.2%}\".format(df[i].isna().sum()/df.shape[0]))\n",
    "    n_null = pd.Series(dict(zip(col,na)))\n",
    "    return n_null"
   ]
  },
  {
   "cell_type": "code",
   "execution_count": 9,
   "metadata": {},
   "outputs": [
    {
     "data": {
      "text/plain": [
       "neighborhood_overview          28.84%\n",
       "host_location                   0.23%\n",
       "host_about                     36.41%\n",
       "host_response_time             29.91%\n",
       "host_response_rate             29.91%\n",
       "host_acceptance_rate           17.99%\n",
       "bathrooms_text                  0.29%\n",
       "bedrooms                        5.61%\n",
       "beds                            1.80%\n",
       "minimum_minimum_nights          0.02%\n",
       "maximum_minimum_nights          0.02%\n",
       "minimum_maximum_nights          0.02%\n",
       "maximum_maximum_nights          0.02%\n",
       "minimum_nights_avg_ntm          0.02%\n",
       "maximum_nights_avg_ntm          0.02%\n",
       "first_review                    9.42%\n",
       "last_review                     9.42%\n",
       "review_scores_rating            9.42%\n",
       "review_scores_accuracy          9.58%\n",
       "review_scores_cleanliness       9.58%\n",
       "review_scores_checkin           9.58%\n",
       "review_scores_communication     9.58%\n",
       "review_scores_location          9.58%\n",
       "review_scores_value             9.58%\n",
       "reviews_per_month               9.42%\n",
       "dtype: object"
      ]
     },
     "execution_count": 9,
     "metadata": {},
     "output_type": "execute_result"
    }
   ],
   "source": [
    "null_check(df)"
   ]
  },
  {
   "cell_type": "markdown",
   "metadata": {},
   "source": [
    "### d. Transform attributes to be ML-ready\n"
   ]
  },
  {
   "cell_type": "markdown",
   "metadata": {},
   "source": [
    "### 1. handle attributes with missing values \n",
    "### (no imputation)\n",
    "For questions regarding my approach of handlingmissing values, check this:\n",
    "\n",
    "https://medium.com/analytics-vidhya/ways-to-handle-categorical-column-missing-data-its-implementations-15dc4a56893"
   ]
  },
  {
   "cell_type": "code",
   "execution_count": 10,
   "metadata": {},
   "outputs": [
    {
     "name": "stdout",
     "output_type": "stream",
     "text": [
      "25 attributes still have missing values\n"
     ]
    }
   ],
   "source": [
    "print(str(len(null_check(df))) + ' attributes still have missing values')"
   ]
  },
  {
   "cell_type": "code",
   "execution_count": 11,
   "metadata": {},
   "outputs": [],
   "source": [
    "# transform neighborhood_overview into 1 if not null and 0 if null\n",
    "df['neighborhood_overview'] = df['neighborhood_overview'].notna().astype(int)"
   ]
  },
  {
   "cell_type": "code",
   "execution_count": 12,
   "metadata": {},
   "outputs": [],
   "source": [
    "# transform host_about into 1 if not null and 0 if null\n",
    "df['host_about'] = df['host_about'].notna().astype(int)"
   ]
  },
  {
   "cell_type": "code",
   "execution_count": 13,
   "metadata": {},
   "outputs": [],
   "source": [
    "# add an additional attribute: 1 if host_response_time is null, 0 if not null\n",
    "df['null_response_history'] = df['host_response_time'].isna().astype(int)"
   ]
  },
  {
   "cell_type": "code",
   "execution_count": 14,
   "metadata": {},
   "outputs": [],
   "source": [
    "# transform host_response_time\n",
    "df['host_response_time'] = df['host_response_time'].replace({'within an hour':1,\n",
    "                                                             'within a day':2,\n",
    "                                                             'within a few hours':3,\n",
    "                                                             'a few days or more':4})"
   ]
  },
  {
   "cell_type": "code",
   "execution_count": 15,
   "metadata": {},
   "outputs": [],
   "source": [
    "# add an additional attribute: 1 if host_acceptance_rate is null, 0 if not null\n",
    "df['null_request_history'] = df['host_acceptance_rate'].isna().astype(int)"
   ]
  },
  {
   "cell_type": "code",
   "execution_count": 16,
   "metadata": {},
   "outputs": [],
   "source": [
    "# fill host_response_time null values with 1, which is 'within an hour'\n",
    "df['host_response_time'] = df['host_response_time'].fillna(1)"
   ]
  },
  {
   "cell_type": "code",
   "execution_count": 17,
   "metadata": {},
   "outputs": [],
   "source": [
    "# transform bathrooms_text\n",
    "df['bathrooms_text'] = df['bathrooms_text'].fillna('1 bath')\n",
    "df = pd.get_dummies(df, columns = ['bathrooms_text'])"
   ]
  },
  {
   "cell_type": "code",
   "execution_count": 18,
   "metadata": {},
   "outputs": [],
   "source": [
    "# add null_bedrooms: if bedrooms is null 1, else 0\n",
    "# fill null values\n",
    "df['null_bedrooms'] = df['bedrooms'].isna().astype(int)\n",
    "df['bedrooms'] = df['bedrooms'].fillna(1.0)"
   ]
  },
  {
   "cell_type": "code",
   "execution_count": 19,
   "metadata": {},
   "outputs": [],
   "source": [
    "# add null_beds: if bed is null 1, else 0\n",
    "df['null_beds'] = df['beds'].isna().astype(int)\n",
    "df['beds'] = df['beds'].fillna(1.0)"
   ]
  },
  {
   "cell_type": "markdown",
   "metadata": {},
   "source": [
    "### (imputation) The reason we want to do this step separately is to avoid data leakage. We want to impute missing values based on training data only."
   ]
  },
  {
   "cell_type": "code",
   "execution_count": 20,
   "metadata": {},
   "outputs": [],
   "source": [
    "# transform price\n",
    "import re\n",
    "df['price'] = df['price'].str.extract(pat = '([\\d]+)').astype(float)\n",
    "# remove outlier rows\n",
    "df = df[df['price']!= 0.0]"
   ]
  },
  {
   "cell_type": "code",
   "execution_count": 21,
   "metadata": {},
   "outputs": [],
   "source": [
    "from sklearn.model_selection import train_test_split\n",
    "\n",
    "X_train,X_test,y_train,y_test = train_test_split(df.drop(columns = ['price']), df['price'], random_state = 1)"
   ]
  },
  {
   "cell_type": "code",
   "execution_count": 22,
   "metadata": {},
   "outputs": [],
   "source": [
    "# fill host_response_rate null values with training set's median\n",
    "def converter(series):\n",
    "    result = []\n",
    "    for i in series:\n",
    "        if type(i) == str:\n",
    "            result.append(float(i.strip('%'))/100)\n",
    "        else:\n",
    "            result.append(i)\n",
    "    return pd.Series(result)\n",
    "X_train['host_response_rate'] = converter(X_train['host_response_rate'])\n",
    "X_test['host_response_rate'] = converter(X_test['host_response_rate'])\n",
    "\n",
    "X_train['host_response_rate'] = X_train['host_response_rate'].fillna(X_train['host_response_rate'].median())\n",
    "X_test['host_response_rate'] = X_test['host_response_rate'].fillna(X_train['host_response_rate'].median())"
   ]
  },
  {
   "cell_type": "code",
   "execution_count": 23,
   "metadata": {},
   "outputs": [],
   "source": [
    "# fill host_acceptance rate null values with median\n",
    "X_train['host_acceptance_rate'] = converter(X_train['host_acceptance_rate'])\n",
    "X_test['host_acceptance_rate'] = converter(X_test['host_acceptance_rate'])\n",
    "\n",
    "X_train['host_acceptance_rate'] = X_train['host_acceptance_rate'].fillna(X_train['host_acceptance_rate'].median())\n",
    "X_test['host_acceptance_rate'] = X_test['host_acceptance_rate'].fillna(X_train['host_acceptance_rate'].median())"
   ]
  },
  {
   "cell_type": "code",
   "execution_count": 24,
   "metadata": {},
   "outputs": [],
   "source": [
    "# fill host_location null values with mode\n",
    "X_train['host_location'] = X_train['host_location'].fillna('Amsterdam, North Holland, Netherlands')\n",
    "X_test['host_location'] = X_test['host_location'].fillna('Amsterdam, North Holland, Netherlands')\n",
    "# transform host_location into host_in_Amsterdam\n",
    "Amsterdam = ['Amsterdam, North Holland, Netherlands','Amsterdam, North Holland, The Netherlands', \n",
    "             'Amsterdam, Noord-Holland, The Netherlands','Amsterdam, Noord-Holland, Netherlands']\n",
    "X_train['host_in_Amsterdam'] = X_train['host_location'].isin(Amsterdam).astype(int)\n",
    "X_train.drop(columns = ['host_location'], inplace = True)\n",
    "X_test['host_in_Amsterdam'] = X_test['host_location'].isin(Amsterdam).astype(int)\n",
    "X_test.drop(columns = ['host_location'], inplace = True)"
   ]
  },
  {
   "cell_type": "code",
   "execution_count": 25,
   "metadata": {},
   "outputs": [],
   "source": [
    "# transform first_review and last_review into days_since_x_review\n",
    "def date_transformer(date_string_series):\n",
    "    result = []\n",
    "    for date in date_string_series:\n",
    "        if type(date) == str:\n",
    "            result.append((datetime.strptime(date,'%Y-%m-%d')).date())\n",
    "        else:\n",
    "            result.append(date)\n",
    "    return pd.Series(result)\n",
    "X_train['days_since_first_review'] = pd.to_timedelta(date(2022,1,1) - date_transformer(X_train['first_review']), \n",
    "                                                errors = 'coerce').dt.days\n",
    "X_train['days_since_last_review'] = pd.to_timedelta(date(2022,1,1) - date_transformer(X_train['last_review']), \n",
    "                                                errors = 'coerce').dt.days\n",
    "X_test['days_since_first_review'] = pd.to_timedelta(date(2022,1,1) - date_transformer(X_test['first_review']), \n",
    "                                                errors = 'coerce').dt.days\n",
    "X_test['days_since_last_review'] = pd.to_timedelta(date(2022,1,1) - date_transformer(X_test['last_review']), \n",
    "                                                errors = 'coerce').dt.days\n",
    "\n",
    "# drop first_review and last_review\n",
    "X_train = X_train.drop(columns = ['first_review','last_review'])\n",
    "X_test = X_test.drop(columns = ['first_review','last_review'])\n",
    "\n",
    "\n",
    "# add new column no_reviews\n",
    "X_train['no_reviews'] = X_train['reviews_per_month'].isna().astype(int)\n",
    "X_test['no_reviews'] = X_test['reviews_per_month'].isna().astype(int)\n",
    "\n",
    "\n",
    "# fill null values with avg\n",
    "for attribute in ['review_scores_rating','reviews_per_month','days_since_first_review','days_since_last_review']:\n",
    "    X_train[attribute] = X_train[attribute].fillna(X_train[attribute].mean())\n",
    "    X_test[attribute] = X_test[attribute].fillna(X_train[attribute].mean())\n",
    "    "
   ]
  },
  {
   "cell_type": "code",
   "execution_count": 26,
   "metadata": {},
   "outputs": [],
   "source": [
    "# add new column no_review_scores\n",
    "X_train['no_review_scores'] = X_train['review_scores_value'].isna().astype(int)\n",
    "X_test['no_review_scores'] = X_test['review_scores_value'].isna().astype(int)\n",
    "\n",
    "# fill null values with avg\n",
    "for attribute in ['review_scores_accuracy','review_scores_cleanliness','review_scores_checkin',\n",
    "                  'review_scores_communication','review_scores_location','review_scores_value']:\n",
    "    X_train[attribute] = X_train[attribute].fillna(X_train[attribute].mean())\n",
    "    X_test[attribute] = X_test[attribute].fillna(X_train[attribute].mean())"
   ]
  },
  {
   "cell_type": "code",
   "execution_count": 27,
   "metadata": {},
   "outputs": [
    {
     "name": "stderr",
     "output_type": "stream",
     "text": [
      "<ipython-input-8-93d00cee96a9>:8: DeprecationWarning: The default dtype for empty Series will be 'object' instead of 'float64' in a future version. Specify a dtype explicitly to silence this warning.\n",
      "  n_null = pd.Series(dict(zip(col,na)))\n"
     ]
    }
   ],
   "source": [
    "# fill nights with mode\n",
    "for attribute in null_check(X_test).index:\n",
    "    X_test[attribute] = X_test[attribute].fillna(float(X_train[attribute].mode()))"
   ]
  },
  {
   "cell_type": "markdown",
   "metadata": {},
   "source": [
    "### 2. handle other attributes"
   ]
  },
  {
   "cell_type": "code",
   "execution_count": 28,
   "metadata": {},
   "outputs": [],
   "source": [
    "# transform host_is_superhost\n",
    "X_train['host_is_superhost'] = X_train['host_is_superhost'].replace({'t':1,'f':0})\n",
    "X_test['host_is_superhost'] = X_test['host_is_superhost'].replace({'t':1,'f':0})"
   ]
  },
  {
   "cell_type": "code",
   "execution_count": 29,
   "metadata": {},
   "outputs": [],
   "source": [
    "# transform host_since\n",
    "X_train['days_as_host'] = (pd.to_timedelta(date(2022,1,1) - date_transformer(X_train['host_since']),\n",
    "                                          errors = 'coerce').dt.days).values\n",
    "X_test['days_as_host'] = (pd.to_timedelta(date(2022,1,1) - date_transformer(X_test['host_since']),\n",
    "                                          errors = 'coerce').dt.days).values\n",
    "# drop host_since\n",
    "X_train.drop(columns = ['host_since'], inplace = True)\n",
    "X_test.drop(columns = ['host_since'], inplace = True)"
   ]
  },
  {
   "cell_type": "code",
   "execution_count": 30,
   "metadata": {},
   "outputs": [],
   "source": [
    "# transform host_verification\n",
    "# Since hosts typically provide different combination of verification methods, too many dummy variables if using it.\n",
    "\n",
    "# take a look at distribution of verification methods. \n",
    "import ast\n",
    "import collections\n",
    "l = []\n",
    "for i in X_train.index:\n",
    "    for j in ast.literal_eval(X_train['host_verifications'][i]):\n",
    "        l.append(j)\n",
    "count_train = collections.Counter(l)\n",
    "\n",
    "l_t = []\n",
    "for i in X_test.index:\n",
    "    for j in ast.literal_eval(X_test['host_verifications'][i]):\n",
    "        l_t.append(j)\n",
    "count_test = collections.Counter(l_t)"
   ]
  },
  {
   "cell_type": "code",
   "execution_count": 31,
   "metadata": {},
   "outputs": [],
   "source": [
    "# define function for single verification (1 or 0)\n",
    "def verification_checker(method, Series):\n",
    "    l = []\n",
    "    for i in Series:\n",
    "        i = ast.literal_eval(i)\n",
    "        l.append(method in i)\n",
    "    l = pd.Series(l)\n",
    "    l = l.astype(int)\n",
    "    return l\n",
    "# add to df\n",
    "for i in count_train:\n",
    "    if count_train[i] > 20:\n",
    "        X_train[i] = verification_checker(i,X_train['host_verifications']).values\n",
    "        X_test[i] = verification_checker(i,X_test['host_verifications']).values\n",
    "# drop host_verifications\n",
    "X_train = X_train.drop(columns = ['host_verifications'])\n",
    "X_test = X_test.drop(columns = ['host_verifications'])"
   ]
  },
  {
   "cell_type": "code",
   "execution_count": 32,
   "metadata": {},
   "outputs": [],
   "source": [
    "# transform amenities\n",
    "l = []\n",
    "for i in X_train.index:\n",
    "    for j in ast.literal_eval(X_train['amenities'][i]):\n",
    "        l.append(j)\n",
    "count = collections.Counter(l)"
   ]
  },
  {
   "cell_type": "code",
   "execution_count": 33,
   "metadata": {},
   "outputs": [],
   "source": [
    "for i in count:\n",
    "    if count[i] > 500:\n",
    "        X_train[i] = verification_checker(i,X_train['amenities']).values\n",
    "        X_test[i] = verification_checker(i,X_test['amenities']).values\n",
    "# drop amenities\n",
    "X_train = X_train.drop(columns = ['amenities'])\n",
    "X_test = X_test.drop(columns = ['amenities'])"
   ]
  },
  {
   "cell_type": "code",
   "execution_count": 34,
   "metadata": {},
   "outputs": [],
   "source": [
    "# transform host_has_profile_pic\n",
    "X_train['host_has_profile_pic'] = X_train['host_has_profile_pic'].replace({'t':1,'f':0})\n",
    "X_test['host_has_profile_pic'] = X_test['host_has_profile_pic'].replace({'t':1,'f':0})"
   ]
  },
  {
   "cell_type": "code",
   "execution_count": 35,
   "metadata": {},
   "outputs": [],
   "source": [
    "# transform host_identity_verified\n",
    "X_train['host_identity_verified'] = X_train['host_identity_verified'].replace({'t':1,'f':0})\n",
    "X_test['host_identity_verified'] = X_test['host_identity_verified'].replace({'t':1,'f':0})"
   ]
  },
  {
   "cell_type": "code",
   "execution_count": 36,
   "metadata": {},
   "outputs": [],
   "source": [
    "# transform neighbourhood_cleansed\n",
    "X_train = pd.get_dummies(X_train,columns = ['neighbourhood_cleansed'])\n",
    "X_test = pd.get_dummies(X_test,columns = ['neighbourhood_cleansed'])\n",
    "X_test.insert(140,'neighbourhood_cleansed_Bijlmer-Oost',0)"
   ]
  },
  {
   "cell_type": "code",
   "execution_count": 37,
   "metadata": {},
   "outputs": [],
   "source": [
    "# transform room_type\n",
    "X_train = pd.get_dummies(X_train, columns = ['room_type'])\n",
    "X_test = pd.get_dummies(X_test, columns = ['room_type'])"
   ]
  },
  {
   "cell_type": "code",
   "execution_count": 38,
   "metadata": {},
   "outputs": [
    {
     "data": {
      "image/png": "[encoded data removed]",
      "text/plain": [
       "<Figure size 1152x432 with 2 Axes>"
      ]
     },
     "metadata": {
      "needs_background": "light"
     },
     "output_type": "display_data"
    }
   ],
   "source": [
    "# transform latitude and longitude. We need to transform that into some clusters.\n",
    "\n",
    "# how they spread geographically.\n",
    "fig, (ax1,ax2) = plt.subplots(1,2, figsize = (16,6))\n",
    "ax1.scatter(X_train['latitude'], X_train['longitude'])\n",
    "\n",
    "# implement k-means\n",
    "geo_data = np.column_stack((X_train['latitude'],X_train['longitude']))\n",
    "geo_data = StandardScaler().fit_transform(geo_data)\n",
    "kmeans = KMeans(n_clusters = 8, random_state = 0).fit(geo_data)\n",
    "\n",
    "# visualize cluster results\n",
    "scatter = ax2.scatter(X_train['latitude'], X_train['longitude'], c = kmeans.labels_)\n",
    "legend = ax2.legend(*scatter.legend_elements())\n",
    "\n",
    "# implement into training set\n",
    "X_train['longitude_latitude_cluster'] = kmeans.labels_\n",
    "X_train = pd.get_dummies(X_train, columns = ['longitude_latitude_cluster'])\n",
    "X_train.drop(columns = ['latitude','longitude'], inplace = True)\n",
    "\n",
    "# implement into test set\n",
    "geo_data_test = np.column_stack((X_test['latitude'],X_test['longitude']))\n",
    "geo_data_test = StandardScaler().fit_transform(geo_data_test)\n",
    "X_test['longitude_latitude_cluster'] = kmeans.predict(geo_data_test)\n",
    "X_test = pd.get_dummies(X_test, columns = ['longitude_latitude_cluster'])\n",
    "X_test.drop(columns = ['latitude','longitude'], inplace = True)"
   ]
  },
  {
   "cell_type": "code",
   "execution_count": 39,
   "metadata": {},
   "outputs": [],
   "source": [
    "# transform instant_bookable\n",
    "X_train['instant_bookable'] = X_train['instant_bookable'].replace({'t':1,'f':0})\n",
    "X_test['instant_bookable'] = X_test['instant_bookable'].replace({'t':1,'f':0})"
   ]
  },
  {
   "cell_type": "code",
   "execution_count": 40,
   "metadata": {},
   "outputs": [],
   "source": [
    "# transform has_availability\n",
    "X_train['has_availability'] = X_train['has_availability'].replace({'t':1,'f':0})\n",
    "X_test['has_availability'] = X_test['has_availability'].replace({'t':1,'f':0})"
   ]
  },
  {
   "cell_type": "code",
   "execution_count": 41,
   "metadata": {},
   "outputs": [],
   "source": [
    "# transform property_type\n",
    "\n",
    "l = []\n",
    "for i in X_train['property_type'].value_counts().index:\n",
    "    if X_train['property_type'].value_counts()[i] > 50:\n",
    "        l.append(i)\n",
    "\n",
    "# transform training set property_type\n",
    "\n",
    "cleaned_property_type_train = []\n",
    "for i in X_train['property_type']:\n",
    "    if i in l:\n",
    "        cleaned_property_type_train.append(i)\n",
    "    else:\n",
    "        cleaned_property_type_train.append('other')\n",
    "\n",
    "\n",
    "cleaned_property_type_train = pd.Series(cleaned_property_type_train)\n",
    "X_train['property_type'] = cleaned_property_type_train.values\n",
    "X_train = pd.get_dummies(X_train, columns = ['property_type'])\n",
    "\n",
    "# transform test set property_type\n",
    "\n",
    "cleaned_property_type_test = []\n",
    "for i in X_test['property_type']:\n",
    "    if i in l:\n",
    "        cleaned_property_type_test.append(i)\n",
    "    else:\n",
    "        cleaned_property_type_test.append('other')\n",
    "\n",
    "cleaned_property_type_test = pd.Series(cleaned_property_type_test)\n",
    "X_test['property_type'] = cleaned_property_type_test.values\n",
    "X_test = pd.get_dummies(X_test, columns = ['property_type'])"
   ]
  },
  {
   "cell_type": "markdown",
   "metadata": {},
   "source": [
    "# 3. EDA (visualizations)\n",
    "\n",
    "Dear Teammates: \n",
    "\n",
    "Now data tranformation is finished. What ideas do we have for visualizaitons? My idea for now is to visualize columns like the sample I give. If anybody have any good ideas please announce in whatsapp!"
   ]
  },
  {
   "cell_type": "code",
   "execution_count": 59,
   "metadata": {},
   "outputs": [
    {
     "data": {
      "text/plain": [
       "listingID\n",
       "0       Private room in rental unit\n",
       "1         Private room in townhouse\n",
       "2         Private room in houseboat\n",
       "3       Private room in rental unit\n",
       "4       Private room in rental unit\n",
       "                   ...             \n",
       "5592     Entire condominium (condo)\n",
       "5593                    Entire loft\n",
       "5594                    Entire loft\n",
       "5595             Entire rental unit\n",
       "5596     Entire condominium (condo)\n",
       "Name: property_type, Length: 5590, dtype: object"
      ]
     },
     "execution_count": 59,
     "metadata": {},
     "output_type": "execute_result"
    }
   ],
   "source": [
    "df['property_type']"
   ]
  },
  {
   "cell_type": "code",
   "execution_count": 60,
   "metadata": {},
   "outputs": [
    {
     "data": {
      "text/plain": [
       "'[\"Fire extinguisher\", \"Carbon monoxide alarm\", \"Hangers\", \"Refrigerator\", \"Long term stays allowed\", \"Heating\", \"Hot water\", \"Wifi\", \"Host greets you\", \"Bed linens\", \"Dedicated workspace\", \"TV\", \"Smoke alarm\", \"Essentials\", \"Paid parking off premises\", \"Free street parking\", \"Hair dryer\"]'"
      ]
     },
     "execution_count": 60,
     "metadata": {},
     "output_type": "execute_result"
    }
   ],
   "source": [
    "df['amenities'][1]"
   ]
  },
  {
   "cell_type": "code",
   "execution_count": 56,
   "metadata": {
    "scrolled": false
   },
   "outputs": [
    {
     "name": "stdout",
     "output_type": "stream",
     "text": [
      "Index(['neighborhood_overview', 'host_about', 'host_response_time',\n",
      "       'host_response_rate', 'host_acceptance_rate', 'host_is_superhost',\n",
      "       'host_listings_count', 'host_total_listings_count',\n",
      "       'host_has_profile_pic', 'host_identity_verified', 'accommodates',\n",
      "       'bedrooms', 'beds', 'minimum_nights', 'maximum_nights',\n",
      "       'minimum_minimum_nights', 'maximum_minimum_nights',\n",
      "       'minimum_maximum_nights', 'maximum_maximum_nights',\n",
      "       'minimum_nights_avg_ntm', 'maximum_nights_avg_ntm', 'has_availability',\n",
      "       'availability_30', 'availability_60', 'availability_90',\n",
      "       'availability_365', 'number_of_reviews', 'number_of_reviews_ltm',\n",
      "       'number_of_reviews_l30d', 'review_scores_rating',\n",
      "       'review_scores_accuracy', 'review_scores_cleanliness',\n",
      "       'review_scores_checkin', 'review_scores_communication',\n",
      "       'review_scores_location', 'review_scores_value', 'instant_bookable',\n",
      "       'calculated_host_listings_count',\n",
      "       'calculated_host_listings_count_entire_homes',\n",
      "       'calculated_host_listings_count_private_rooms',\n",
      "       'calculated_host_listings_count_shared_rooms', 'reviews_per_month',\n",
      "       'null_response_history', 'null_request_history',\n",
      "       'bathrooms_text_0 baths', 'bathrooms_text_0 shared baths',\n",
      "       'bathrooms_text_1 bath', 'bathrooms_text_1 private bath',\n",
      "       'bathrooms_text_1 shared bath', 'bathrooms_text_1.5 baths'],\n",
      "      dtype='object')\n",
      "Index(['bathrooms_text_1.5 shared baths', 'bathrooms_text_2 baths',\n",
      "       'bathrooms_text_2 shared baths', 'bathrooms_text_2.5 baths',\n",
      "       'bathrooms_text_3 baths', 'bathrooms_text_3 shared baths',\n",
      "       'bathrooms_text_3.5 baths', 'bathrooms_text_3.5 shared baths',\n",
      "       'bathrooms_text_4 baths', 'bathrooms_text_4 shared baths',\n",
      "       'bathrooms_text_4.5 baths', 'bathrooms_text_5 baths',\n",
      "       'bathrooms_text_5.5 baths', 'bathrooms_text_Half-bath',\n",
      "       'bathrooms_text_Private half-bath', 'bathrooms_text_Shared half-bath',\n",
      "       'null_bedrooms', 'null_beds', 'host_in_Amsterdam',\n",
      "       'days_since_first_review', 'days_since_last_review', 'no_reviews',\n",
      "       'no_review_scores', 'days_as_host', 'email', 'phone', 'reviews',\n",
      "       'jumio', 'offline_government_id', 'government_id', 'work_email',\n",
      "       'selfie', 'identity_manual', 'facebook', 'manual_offline', 'google',\n",
      "       'Dishes and silverware', 'Stove', 'Bathtub', 'Refrigerator',\n",
      "       'Cooking basics', 'Dedicated workspace', 'Shower gel', 'Smoke alarm',\n",
      "       'Iron', 'Private entrance', 'Dryer', 'Freezer', 'Washer', 'Hangers'],\n",
      "      dtype='object')\n",
      "Index(['Wifi', 'Kitchen', 'Waterfront', 'Outdoor furniture', 'Bed linens',\n",
      "       'Shampoo', 'Oven', 'Dining table', 'Hair dryer',\n",
      "       'Extra pillows and blankets', 'Dishwasher', 'Heating',\n",
      "       'TV with standard cable', 'Essentials', 'Cleaning products',\n",
      "       'Wine glasses', 'Backyard', 'First aid kit', 'Coffee maker',\n",
      "       'Microwave', 'Long term stays allowed', 'Hot water',\n",
      "       'Drying rack for clothing', 'Cable TV', 'Patio or balcony', 'Body soap',\n",
      "       'Laundromat nearby', 'Carbon monoxide alarm', 'TV',\n",
      "       'Luggage dropoff allowed', 'Hot water kettle',\n",
      "       'Private patio or balcony', 'Paid parking off premises', 'High chair',\n",
      "       'Fire extinguisher', 'Lock on bedroom door', 'Room-darkening shades',\n",
      "       'Host greets you', 'Single level home',\n",
      "       'neighbourhood_cleansed_Bijlmer-Centrum',\n",
      "       'neighbourhood_cleansed_Bijlmer-Oost',\n",
      "       'neighbourhood_cleansed_Bos en Lommer',\n",
      "       'neighbourhood_cleansed_Buitenveldert - Zuidas',\n",
      "       'neighbourhood_cleansed_Centrum-Oost',\n",
      "       'neighbourhood_cleansed_Centrum-West',\n",
      "       'neighbourhood_cleansed_De Aker - Nieuw Sloten',\n",
      "       'neighbourhood_cleansed_De Baarsjes - Oud-West',\n",
      "       'neighbourhood_cleansed_De Pijp - Rivierenbuurt',\n",
      "       'neighbourhood_cleansed_Gaasperdam - Driemond',\n",
      "       'neighbourhood_cleansed_Geuzenveld - Slotermeer'],\n",
      "      dtype='object')\n",
      "Index(['neighbourhood_cleansed_IJburg - Zeeburgereiland',\n",
      "       'neighbourhood_cleansed_Noord-Oost',\n",
      "       'neighbourhood_cleansed_Noord-West',\n",
      "       'neighbourhood_cleansed_Oostelijk Havengebied - Indische Buurt',\n",
      "       'neighbourhood_cleansed_Osdorp', 'neighbourhood_cleansed_Oud-Noord',\n",
      "       'neighbourhood_cleansed_Oud-Oost', 'neighbourhood_cleansed_Slotervaart',\n",
      "       'neighbourhood_cleansed_Watergraafsmeer',\n",
      "       'neighbourhood_cleansed_Westerpark', 'neighbourhood_cleansed_Zuid',\n",
      "       'room_type_Entire home/apt', 'room_type_Hotel room',\n",
      "       'room_type_Private room', 'room_type_Shared room',\n",
      "       'longitude_latitude_cluster_0', 'longitude_latitude_cluster_1',\n",
      "       'longitude_latitude_cluster_2', 'longitude_latitude_cluster_3',\n",
      "       'longitude_latitude_cluster_4', 'longitude_latitude_cluster_5',\n",
      "       'longitude_latitude_cluster_6', 'longitude_latitude_cluster_7',\n",
      "       'property_type_Boat', 'property_type_Entire condominium (condo)',\n",
      "       'property_type_Entire loft', 'property_type_Entire rental unit',\n",
      "       'property_type_Entire residential home',\n",
      "       'property_type_Entire serviced apartment',\n",
      "       'property_type_Entire townhouse', 'property_type_Houseboat',\n",
      "       'property_type_Private room in bed and breakfast',\n",
      "       'property_type_Private room in boat',\n",
      "       'property_type_Private room in guest suite',\n",
      "       'property_type_Private room in houseboat',\n",
      "       'property_type_Private room in rental unit',\n",
      "       'property_type_Private room in residential home',\n",
      "       'property_type_Private room in townhouse',\n",
      "       'property_type_Room in boutique hotel', 'property_type_Room in hotel',\n",
      "       'property_type_other'],\n",
      "      dtype='object')\n"
     ]
    }
   ],
   "source": [
    "print(X_train.columns[:50])\n",
    "print(X_train.columns[50:100])\n",
    "print(X_train.columns[100:150])\n",
    "print(X_train.columns[150:192])"
   ]
  },
  {
   "cell_type": "code",
   "execution_count": 54,
   "metadata": {},
   "outputs": [
    {
     "data": {
      "text/plain": [
       "Index(['neighborhood_overview', 'host_since', 'host_location', 'host_about',\n",
       "       'host_response_time', 'host_response_rate', 'host_acceptance_rate',\n",
       "       'host_is_superhost', 'host_listings_count', 'host_total_listings_count',\n",
       "       'host_verifications', 'host_has_profile_pic', 'host_identity_verified',\n",
       "       'neighbourhood_cleansed', 'latitude', 'longitude', 'property_type',\n",
       "       'room_type', 'accommodates', 'bedrooms', 'beds', 'amenities', 'price',\n",
       "       'minimum_nights', 'maximum_nights', 'minimum_minimum_nights',\n",
       "       'maximum_minimum_nights', 'minimum_maximum_nights',\n",
       "       'maximum_maximum_nights', 'minimum_nights_avg_ntm',\n",
       "       'maximum_nights_avg_ntm', 'has_availability', 'availability_30',\n",
       "       'availability_60', 'availability_90', 'availability_365',\n",
       "       'number_of_reviews', 'number_of_reviews_ltm', 'number_of_reviews_l30d',\n",
       "       'first_review', 'last_review', 'review_scores_rating',\n",
       "       'review_scores_accuracy', 'review_scores_cleanliness',\n",
       "       'review_scores_checkin', 'review_scores_communication',\n",
       "       'review_scores_location', 'review_scores_value', 'instant_bookable',\n",
       "       'calculated_host_listings_count',\n",
       "       'calculated_host_listings_count_entire_homes',\n",
       "       'calculated_host_listings_count_private_rooms',\n",
       "       'calculated_host_listings_count_shared_rooms', 'reviews_per_month',\n",
       "       'null_response_history', 'null_request_history',\n",
       "       'bathrooms_text_0 baths', 'bathrooms_text_0 shared baths',\n",
       "       'bathrooms_text_1 bath', 'bathrooms_text_1 private bath',\n",
       "       'bathrooms_text_1 shared bath', 'bathrooms_text_1.5 baths',\n",
       "       'bathrooms_text_1.5 shared baths', 'bathrooms_text_2 baths',\n",
       "       'bathrooms_text_2 shared baths', 'bathrooms_text_2.5 baths',\n",
       "       'bathrooms_text_3 baths', 'bathrooms_text_3 shared baths',\n",
       "       'bathrooms_text_3.5 baths', 'bathrooms_text_3.5 shared baths',\n",
       "       'bathrooms_text_4 baths', 'bathrooms_text_4 shared baths',\n",
       "       'bathrooms_text_4.5 baths', 'bathrooms_text_5 baths',\n",
       "       'bathrooms_text_5.5 baths', 'bathrooms_text_Half-bath',\n",
       "       'bathrooms_text_Private half-bath', 'bathrooms_text_Shared half-bath',\n",
       "       'null_bedrooms', 'null_beds'],\n",
       "      dtype='object')"
      ]
     },
     "execution_count": 54,
     "metadata": {},
     "output_type": "execute_result"
    }
   ],
   "source": [
    "df.columns"
   ]
  },
  {
   "cell_type": "code",
   "execution_count": 61,
   "metadata": {},
   "outputs": [
    {
     "data": {
      "text/plain": [
       "listingID\n",
       "0       Oostelijk Havengebied - Indische Buurt\n",
       "1                                 Centrum-Oost\n",
       "2                                 Centrum-West\n",
       "3                                 Centrum-West\n",
       "4                                 Centrum-Oost\n",
       "                         ...                  \n",
       "5592                                      Zuid\n",
       "5593                    De Baarsjes - Oud-West\n",
       "5594                   De Pijp - Rivierenbuurt\n",
       "5595                           Watergraafsmeer\n",
       "5596                           Watergraafsmeer\n",
       "Name: neighbourhood_cleansed, Length: 5590, dtype: object"
      ]
     },
     "execution_count": 61,
     "metadata": {},
     "output_type": "execute_result"
    }
   ],
   "source": [
    "df['neighbourhood_cleansed']"
   ]
  },
  {
   "cell_type": "code",
   "execution_count": 45,
   "metadata": {},
   "outputs": [
    {
     "data": {
      "text/plain": [
       "Index(['neighborhood_overview', 'host_since', 'host_location', 'host_about',\n",
       "       'host_response_time', 'host_response_rate', 'host_acceptance_rate',\n",
       "       'host_is_superhost', 'host_listings_count', 'host_total_listings_count',\n",
       "       'host_verifications', 'host_has_profile_pic', 'host_identity_verified',\n",
       "       'neighbourhood_cleansed', 'latitude', 'longitude', 'property_type',\n",
       "       'room_type', 'accommodates', 'bedrooms', 'beds', 'amenities', 'price',\n",
       "       'minimum_nights', 'maximum_nights', 'minimum_minimum_nights',\n",
       "       'maximum_minimum_nights', 'minimum_maximum_nights',\n",
       "       'maximum_maximum_nights', 'minimum_nights_avg_ntm',\n",
       "       'maximum_nights_avg_ntm', 'has_availability', 'availability_30',\n",
       "       'availability_60', 'availability_90', 'availability_365',\n",
       "       'number_of_reviews', 'number_of_reviews_ltm', 'number_of_reviews_l30d',\n",
       "       'first_review', 'last_review', 'review_scores_rating',\n",
       "       'review_scores_accuracy', 'review_scores_cleanliness',\n",
       "       'review_scores_checkin', 'review_scores_communication',\n",
       "       'review_scores_location', 'review_scores_value', 'instant_bookable',\n",
       "       'calculated_host_listings_count',\n",
       "       'calculated_host_listings_count_entire_homes',\n",
       "       'calculated_host_listings_count_private_rooms',\n",
       "       'calculated_host_listings_count_shared_rooms', 'reviews_per_month',\n",
       "       'null_response_history', 'null_request_history',\n",
       "       'bathrooms_text_0 baths', 'bathrooms_text_0 shared baths',\n",
       "       'bathrooms_text_1 bath', 'bathrooms_text_1 private bath',\n",
       "       'bathrooms_text_1 shared bath', 'bathrooms_text_1.5 baths',\n",
       "       'bathrooms_text_1.5 shared baths', 'bathrooms_text_2 baths',\n",
       "       'bathrooms_text_2 shared baths', 'bathrooms_text_2.5 baths',\n",
       "       'bathrooms_text_3 baths', 'bathrooms_text_3 shared baths',\n",
       "       'bathrooms_text_3.5 baths', 'bathrooms_text_3.5 shared baths',\n",
       "       'bathrooms_text_4 baths', 'bathrooms_text_4 shared baths',\n",
       "       'bathrooms_text_4.5 baths', 'bathrooms_text_5 baths',\n",
       "       'bathrooms_text_5.5 baths', 'bathrooms_text_Half-bath',\n",
       "       'bathrooms_text_Private half-bath', 'bathrooms_text_Shared half-bath',\n",
       "       'null_bedrooms', 'null_beds'],\n",
       "      dtype='object')"
      ]
     },
     "execution_count": 45,
     "metadata": {},
     "output_type": "execute_result"
    }
   ],
   "source": [
    "df.columns"
   ]
  },
  {
   "cell_type": "code",
   "execution_count": 46,
   "metadata": {},
   "outputs": [
    {
     "data": {
      "text/plain": [
       "Text(0.5, 1.0, 'Listings with neighborhood_overview')"
      ]
     },
     "execution_count": 46,
     "metadata": {},
     "output_type": "execute_result"
    },
    {
     "data": {
      "image/png": "[encoded data removed]",
      "text/plain": [
       "<Figure size 432x288 with 1 Axes>"
      ]
     },
     "metadata": {
      "needs_background": "light"
     },
     "output_type": "display_data"
    }
   ],
   "source": [
    "# here's a visualization example.\n",
    "X_train['neighborhood_overview'].hist()\n",
    "plt.title('Listings with neighborhood_overview')"
   ]
  },
  {
   "cell_type": "markdown",
   "metadata": {},
   "source": [
    "# 4. Ordinary Least Squares"
   ]
  },
  {
   "cell_type": "code",
   "execution_count": 47,
   "metadata": {},
   "outputs": [
    {
     "ename": "NameError",
     "evalue": "name 'r2_score' is not defined",
     "output_type": "error",
     "traceback": [
      "\u001b[0;31m---------------------------------------------------------------------------\u001b[0m",
      "\u001b[0;31mNameError\u001b[0m                                 Traceback (most recent call last)",
      "\u001b[0;32m<ipython-input-47-31c965c2ea0e>\u001b[0m in \u001b[0;36m<module>\u001b[0;34m\u001b[0m\n\u001b[1;32m      1\u001b[0m \u001b[0mreg\u001b[0m \u001b[0;34m=\u001b[0m \u001b[0mLinearRegression\u001b[0m\u001b[0;34m(\u001b[0m\u001b[0;34m)\u001b[0m\u001b[0;34m.\u001b[0m\u001b[0mfit\u001b[0m\u001b[0;34m(\u001b[0m\u001b[0mX_train\u001b[0m\u001b[0;34m,\u001b[0m \u001b[0my_train\u001b[0m\u001b[0;34m)\u001b[0m\u001b[0;34m\u001b[0m\u001b[0;34m\u001b[0m\u001b[0m\n\u001b[0;32m----> 2\u001b[0;31m \u001b[0mprint\u001b[0m\u001b[0;34m(\u001b[0m\u001b[0;34m'R-squared for training set is: '\u001b[0m \u001b[0;34m+\u001b[0m \u001b[0mstr\u001b[0m\u001b[0;34m(\u001b[0m\u001b[0mr2_score\u001b[0m\u001b[0;34m(\u001b[0m\u001b[0my_train\u001b[0m\u001b[0;34m,\u001b[0m \u001b[0mreg\u001b[0m\u001b[0;34m.\u001b[0m\u001b[0mpredict\u001b[0m\u001b[0;34m(\u001b[0m\u001b[0mX_train\u001b[0m\u001b[0;34m)\u001b[0m\u001b[0;34m)\u001b[0m\u001b[0;34m)\u001b[0m\u001b[0;34m)\u001b[0m\u001b[0;34m\u001b[0m\u001b[0;34m\u001b[0m\u001b[0m\n\u001b[0m\u001b[1;32m      3\u001b[0m \u001b[0mprint\u001b[0m\u001b[0;34m(\u001b[0m\u001b[0;34m'Adjusted R-squared for test set is: '\u001b[0m \u001b[0;34m+\u001b[0m \u001b[0mstr\u001b[0m\u001b[0;34m(\u001b[0m\u001b[0;36m1\u001b[0m \u001b[0;34m-\u001b[0m \u001b[0;34m(\u001b[0m\u001b[0;36m1\u001b[0m \u001b[0;34m-\u001b[0m \u001b[0mreg\u001b[0m\u001b[0;34m.\u001b[0m\u001b[0mscore\u001b[0m\u001b[0;34m(\u001b[0m\u001b[0mX_train\u001b[0m\u001b[0;34m,\u001b[0m \u001b[0my_train\u001b[0m\u001b[0;34m)\u001b[0m\u001b[0;34m)\u001b[0m \u001b[0;34m*\u001b[0m \u001b[0;34m(\u001b[0m\u001b[0;36m4196\u001b[0m\u001b[0;34m)\u001b[0m\u001b[0;34m/\u001b[0m\u001b[0;34m(\u001b[0m\u001b[0;36m4196\u001b[0m\u001b[0;34m-\u001b[0m\u001b[0;36m191\u001b[0m\u001b[0;34m-\u001b[0m\u001b[0;36m1\u001b[0m\u001b[0;34m)\u001b[0m\u001b[0;34m)\u001b[0m\u001b[0;34m)\u001b[0m\u001b[0;34m\u001b[0m\u001b[0;34m\u001b[0m\u001b[0m\n\u001b[1;32m      4\u001b[0m \u001b[0mprint\u001b[0m\u001b[0;34m(\u001b[0m\u001b[0;34m'R-squared for test set is: '\u001b[0m \u001b[0;34m+\u001b[0m \u001b[0mstr\u001b[0m\u001b[0;34m(\u001b[0m\u001b[0mreg\u001b[0m\u001b[0;34m.\u001b[0m\u001b[0mscore\u001b[0m\u001b[0;34m(\u001b[0m\u001b[0mX_test\u001b[0m\u001b[0;34m,\u001b[0m \u001b[0my_test\u001b[0m\u001b[0;34m)\u001b[0m\u001b[0;34m)\u001b[0m\u001b[0;34m)\u001b[0m\u001b[0;34m\u001b[0m\u001b[0;34m\u001b[0m\u001b[0m\n\u001b[1;32m      5\u001b[0m \u001b[0mprint\u001b[0m\u001b[0;34m(\u001b[0m\u001b[0;34m'Adjusted R-squared for test set is: '\u001b[0m \u001b[0;34m+\u001b[0m \u001b[0mstr\u001b[0m\u001b[0;34m(\u001b[0m\u001b[0;36m1\u001b[0m \u001b[0;34m-\u001b[0m \u001b[0;34m(\u001b[0m\u001b[0;36m1\u001b[0m \u001b[0;34m-\u001b[0m \u001b[0mreg\u001b[0m\u001b[0;34m.\u001b[0m\u001b[0mscore\u001b[0m\u001b[0;34m(\u001b[0m\u001b[0mX_test\u001b[0m\u001b[0;34m,\u001b[0m \u001b[0my_test\u001b[0m\u001b[0;34m)\u001b[0m\u001b[0;34m)\u001b[0m \u001b[0;34m*\u001b[0m \u001b[0;34m(\u001b[0m\u001b[0;36m1399\u001b[0m\u001b[0;34m)\u001b[0m\u001b[0;34m/\u001b[0m\u001b[0;34m(\u001b[0m\u001b[0;36m1400\u001b[0m\u001b[0;34m-\u001b[0m\u001b[0;36m191\u001b[0m\u001b[0;34m-\u001b[0m\u001b[0;36m1\u001b[0m\u001b[0;34m)\u001b[0m\u001b[0;34m)\u001b[0m\u001b[0;34m)\u001b[0m\u001b[0;34m\u001b[0m\u001b[0;34m\u001b[0m\u001b[0m\n",
      "\u001b[0;31mNameError\u001b[0m: name 'r2_score' is not defined"
     ]
    }
   ],
   "source": [
    "reg = LinearRegression().fit(X_train, y_train)\n",
    "print('R-squared for training set is: ' + str(r2_score(y_train, reg.predict(X_train))))\n",
    "print('Adjusted R-squared for test set is: ' + str(1 - (1 - reg.score(X_train, y_train)) * (4196)/(4196-191-1)))\n",
    "print('R-squared for test set is: ' + str(reg.score(X_test, y_test)))\n",
    "print('Adjusted R-squared for test set is: ' + str(1 - (1 - reg.score(X_test, y_test)) * (1399)/(1400-191-1)))"
   ]
  },
  {
   "cell_type": "code",
   "execution_count": null,
   "metadata": {},
   "outputs": [],
   "source": [
    "print('In training set, we can see both r-squared and adjusted r-squared are approximately 50%. In test set, r-sq')"
   ]
  },
  {
   "cell_type": "code",
   "execution_count": null,
   "metadata": {},
   "outputs": [],
   "source": [
    "# does log transformation help?\n",
    "from sklearn.compose import TransformedTargetRegressor\n",
    "from sklearn.metrics import r2_score\n",
    "tt = TransformedTargetRegressor(regressor=LinearRegression(),\n",
    "                           func=np.log1p, inverse_func=np.expm1)\n",
    "tt.fit(X_train, y_train)\n",
    "\n",
    "# log transformation slightly improved the performance on test set.\n",
    "print('log transformed result gives r-squared for training set: ' + str(tt.score(X_train, y_train)))\n",
    "print('log transformed result gives r-squared for test set: ' + str(tt.score(X_test,y_test)))"
   ]
  }
 ],
 "metadata": {
  "kernelspec": {
   "display_name": "Python 3",
   "language": "python",
   "name": "python3"
  },
  "language_info": {
   "codemirror_mode": {
    "name": "ipython",
    "version": 3
   },
   "file_extension": ".py",
   "mimetype": "text/x-python",
   "name": "python",
   "nbconvert_exporter": "python",
   "pygments_lexer": "ipython3",
   "version": "3.8.8"
  }
 },
 "nbformat": 4,
 "nbformat_minor": 4
}
